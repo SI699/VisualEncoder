{
 "cells": [
  {
   "cell_type": "code",
   "execution_count": 33,
   "metadata": {},
   "outputs": [],
   "source": [
    "import pandas as pd"
   ]
  },
  {
   "cell_type": "code",
   "execution_count": 34,
   "metadata": {},
   "outputs": [
    {
     "data": {
      "text/html": [
       "<div>\n",
       "<style scoped>\n",
       "    .dataframe tbody tr th:only-of-type {\n",
       "        vertical-align: middle;\n",
       "    }\n",
       "\n",
       "    .dataframe tbody tr th {\n",
       "        vertical-align: top;\n",
       "    }\n",
       "\n",
       "    .dataframe thead th {\n",
       "        text-align: right;\n",
       "    }\n",
       "</style>\n",
       "<table border=\"1\" class=\"dataframe\">\n",
       "  <thead>\n",
       "    <tr style=\"text-align: right;\">\n",
       "      <th></th>\n",
       "      <th>汉字</th>\n",
       "      <th>常用</th>\n",
       "    </tr>\n",
       "    <tr>\n",
       "      <th>ID</th>\n",
       "      <th></th>\n",
       "      <th></th>\n",
       "    </tr>\n",
       "  </thead>\n",
       "  <tbody>\n",
       "    <tr>\n",
       "      <th>1</th>\n",
       "      <td>一</td>\n",
       "      <td>1</td>\n",
       "    </tr>\n",
       "    <tr>\n",
       "      <th>2</th>\n",
       "      <td>乙</td>\n",
       "      <td>1</td>\n",
       "    </tr>\n",
       "    <tr>\n",
       "      <th>3</th>\n",
       "      <td>二</td>\n",
       "      <td>1</td>\n",
       "    </tr>\n",
       "    <tr>\n",
       "      <th>4</th>\n",
       "      <td>十</td>\n",
       "      <td>1</td>\n",
       "    </tr>\n",
       "    <tr>\n",
       "      <th>5</th>\n",
       "      <td>丁</td>\n",
       "      <td>1</td>\n",
       "    </tr>\n",
       "  </tbody>\n",
       "</table>\n",
       "</div>"
      ],
      "text/plain": [
       "   汉字  常用\n",
       "ID       \n",
       "1   一   1\n",
       "2   乙   1\n",
       "3   二   1\n",
       "4   十   1\n",
       "5   丁   1"
      ]
     },
     "execution_count": 34,
     "metadata": {},
     "output_type": "execute_result"
    }
   ],
   "source": [
    "common_characters_df = pd.read_csv('./data/common_hanzi.csv', index_col=0)\n",
    "common_characters_df.head()"
   ]
  },
  {
   "cell_type": "code",
   "execution_count": 35,
   "metadata": {},
   "outputs": [],
   "source": [
    "common_characters_df = common_characters_df[common_characters_df['常用'] == 1]\n",
    "common_characters = common_characters_df['汉字'].tolist()"
   ]
  },
  {
   "attachments": {},
   "cell_type": "markdown",
   "metadata": {},
   "source": [
    "# Generated Chinese Character Dataset"
   ]
  },
  {
   "cell_type": "code",
   "execution_count": 43,
   "metadata": {},
   "outputs": [],
   "source": [
    "from PIL import ImageFont, ImageDraw, Image\n",
    "from tqdm import tqdm\n",
    "from pathlib2 import Path"
   ]
  },
  {
   "cell_type": "code",
   "execution_count": 44,
   "metadata": {},
   "outputs": [],
   "source": [
    "font_tft_path = './data/font/STSONG.TTF'\n",
    "text_size = 32 # also the image size\n",
    "font = ImageFont.truetype(font_tft_path, text_size)\n",
    "save_dir = Path('./data/common_hanzi')\n",
    "if not save_dir.exists():\n",
    "    save_dir.mkdir()"
   ]
  },
  {
   "cell_type": "code",
   "execution_count": 46,
   "metadata": {},
   "outputs": [
    {
     "name": "stderr",
     "output_type": "stream",
     "text": [
      "100%|██████████| 2500/2500 [00:01<00:00, 2135.40it/s]\n"
     ]
    }
   ],
   "source": [
    "for character in tqdm(common_characters):\n",
    "    text_width, text_height = font.getsize(character)\n",
    "    xmin, ymin, xmax, ymax = font.getmask(character).getbbox()\n",
    "    offsetx, offsety = font.getoffset(character)\n",
    "    canvas = Image.new('L', (text_width, text_height), (255))\n",
    "    draw = ImageDraw.Draw(canvas)\n",
    "    white = 0\n",
    "    draw.text((0, 0), character, font=font, fill=white)\n",
    "    x_gap = (text_size - (xmax - xmin)) / 2\n",
    "    y_gap = (text_size - (ymax - ymin)) / 2\n",
    "    canvas = canvas.crop((xmin + offsetx - x_gap, ymin + offsety - y_gap, xmax + offsetx + x_gap, ymax + offsety + y_gap))\n",
    "    # check the size of canvas\n",
    "    assert canvas.size == (text_size, text_size)\n",
    "    canvas.save(str(save_dir / '{}.png'.format(character)))"
   ]
  }
 ],
 "metadata": {
  "kernelspec": {
   "display_name": "base",
   "language": "python",
   "name": "python3"
  },
  "language_info": {
   "codemirror_mode": {
    "name": "ipython",
    "version": 3
   },
   "file_extension": ".py",
   "mimetype": "text/x-python",
   "name": "python",
   "nbconvert_exporter": "python",
   "pygments_lexer": "ipython3",
   "version": "3.9.5"
  },
  "orig_nbformat": 4
 },
 "nbformat": 4,
 "nbformat_minor": 2
}
